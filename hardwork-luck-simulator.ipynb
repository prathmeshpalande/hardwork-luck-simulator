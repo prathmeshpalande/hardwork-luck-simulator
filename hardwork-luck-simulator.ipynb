{
 "cells": [
  {
   "cell_type": "code",
   "execution_count": 1,
   "metadata": {},
   "outputs": [],
   "source": [
    "import random\n",
    "random.seed(42)"
   ]
  },
  {
   "cell_type": "markdown",
   "metadata": {},
   "source": [
    "# Simulation of Selections based on Hardwork + Luck Combined"
   ]
  },
  {
   "cell_type": "code",
   "execution_count": 2,
   "metadata": {},
   "outputs": [],
   "source": [
    "selections = []\n",
    "for _ in range(1000):    \n",
    "    hardwork = []\n",
    "    luck = []\n",
    "    score = []\n",
    "    for i in range(18300):\n",
    "        _hardwork = random.random() * 0.95\n",
    "        _luck = random.random() * 0.05\n",
    "        _score = _hardwork + _luck\n",
    "        hardwork.append(_hardwork)\n",
    "        luck.append(_luck)\n",
    "        score.append(_score)\n",
    "    selections.append(sorted(zip(score, hardwork, luck), key=lambda x: x[0], reverse=True))\n"
   ]
  },
  {
   "cell_type": "code",
   "execution_count": 3,
   "metadata": {},
   "outputs": [],
   "source": [
    "selection_luck_scores = [_selection[2] for selection in selections for _selection in selection[:11]]"
   ]
  },
  {
   "cell_type": "code",
   "execution_count": 4,
   "metadata": {},
   "outputs": [
    {
     "data": {
      "text/plain": [
       "94.76181905277079"
      ]
     },
     "execution_count": 4,
     "metadata": {},
     "output_type": "execute_result"
    }
   ],
   "source": [
    "sum(selection_luck_scores) / len(selection_luck_scores) / 0.05 * 100"
   ]
  },
  {
   "cell_type": "markdown",
   "metadata": {},
   "source": [
    "# Calculating the percentage of selected astronauts that would be have been in the top 11 based on skill alone"
   ]
  },
  {
   "cell_type": "code",
   "execution_count": 5,
   "metadata": {},
   "outputs": [],
   "source": [
    "selection_hardwork_only = [sorted(selection, key=lambda x: x[1], reverse=True)[:11] for selection in selections]    "
   ]
  },
  {
   "cell_type": "code",
   "execution_count": 6,
   "metadata": {},
   "outputs": [
    {
     "data": {
      "text/plain": [
       "14.436363636363748"
      ]
     },
     "execution_count": 6,
     "metadata": {},
     "output_type": "execute_result"
    }
   ],
   "source": [
    "feaction_hardwork_only = 0\n",
    "for i, selection in enumerate(selections):\n",
    "    selection = selection[:11]\n",
    "    feaction_hardwork_only += len(set(selection).intersection(set(selection_hardwork_only[i]))) / 11\n",
    "\n",
    "feaction_hardwork_only / len(selections) * 100"
   ]
  },
  {
   "cell_type": "code",
   "execution_count": null,
   "metadata": {},
   "outputs": [],
   "source": []
  }
 ],
 "metadata": {
  "interpreter": {
   "hash": "5611f88efc1163da584fac1c4e2ede0a20aee80ce1f98995406d913a5d7a1359"
  },
  "kernelspec": {
   "display_name": "Python 3.9.7 ('base')",
   "language": "python",
   "name": "python3"
  },
  "language_info": {
   "codemirror_mode": {
    "name": "ipython",
    "version": 3
   },
   "file_extension": ".py",
   "mimetype": "text/x-python",
   "name": "python",
   "nbconvert_exporter": "python",
   "pygments_lexer": "ipython3",
   "version": "3.9.7"
  },
  "orig_nbformat": 4
 },
 "nbformat": 4,
 "nbformat_minor": 2
}
